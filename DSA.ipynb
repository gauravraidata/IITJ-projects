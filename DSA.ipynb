{
  "nbformat": 4,
  "nbformat_minor": 0,
  "metadata": {
    "colab": {
      "provenance": [],
      "authorship_tag": "ABX9TyOyMUgTMM/Ay7QQ912Ooj6O",
      "include_colab_link": true
    },
    "kernelspec": {
      "name": "python3",
      "display_name": "Python 3"
    },
    "language_info": {
      "name": "python"
    }
  },
  "cells": [
    {
      "cell_type": "markdown",
      "metadata": {
        "id": "view-in-github",
        "colab_type": "text"
      },
      "source": [
        "<a href=\"https://colab.research.google.com/github/gauravraidata/IITJ-projects/blob/main/DSA.ipynb\" target=\"_parent\"><img src=\"https://colab.research.google.com/assets/colab-badge.svg\" alt=\"Open In Colab\"/></a>"
      ]
    },
    {
      "cell_type": "markdown",
      "source": [
        "insertion sort"
      ],
      "metadata": {
        "id": "y0bJvFLG10ZD"
      }
    },
    {
      "cell_type": "markdown",
      "source": [
        "Using Figure 2.2 as a model, illustrate the operation of INSERTION-SORT on an\n",
        "array initially containing the sequence {31; 41; 59; 26; 41; 58}"
      ],
      "metadata": {
        "id": "wcCsh0hp1-Gn"
      }
    },
    {
      "cell_type": "code",
      "execution_count": 2,
      "metadata": {
        "id": "byQgGKcA1eol"
      },
      "outputs": [],
      "source": [
        "\n",
        "def insertion_sort(a):\n",
        "  n = len(a)                             #length of the list\n",
        "  for i in range(1,n):                   # looping till the last element of list from second\n",
        "    key = a[i]                           # storing i index value of list in key\n",
        "    j = i-1                              #it is used to point to 1st element, we can cross check consecutively between each adjcent value\n",
        "    while j >= 0 and a[j] > key:\n",
        "      a[j+1] = a[j]                      # as we know j+1 = i, so if j index value of list is more than i index value the we replace i value with current j value\n",
        "      j = j - 1\n",
        "    a[j+1] = key                         # after all the shorting is done making key the first value\n",
        "  return a\n",
        ""
      ]
    },
    {
      "cell_type": "code",
      "source": [
        "a = [31, 41, 59, 26, 41, 58]"
      ],
      "metadata": {
        "id": "kCJ8O6IA64Ng"
      },
      "execution_count": 5,
      "outputs": []
    },
    {
      "cell_type": "code",
      "source": [
        "insertion_sort(a)"
      ],
      "metadata": {
        "colab": {
          "base_uri": "https://localhost:8080/"
        },
        "id": "GrU8ehAk3i-T",
        "outputId": "a29bb944-aac1-4624-c399-f9268c6b32e5"
      },
      "execution_count": 6,
      "outputs": [
        {
          "output_type": "execute_result",
          "data": {
            "text/plain": [
              "[26, 31, 41, 41, 58, 59]"
            ]
          },
          "metadata": {},
          "execution_count": 6
        }
      ]
    },
    {
      "cell_type": "code",
      "source": [],
      "metadata": {
        "id": "qR7Ntme07G8-"
      },
      "execution_count": null,
      "outputs": []
    }
  ]
}